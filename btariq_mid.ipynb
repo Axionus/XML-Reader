{
 "cells": [
  {
   "cell_type": "code",
   "execution_count": null,
   "metadata": {},
   "outputs": [],
   "source": [
    "\"\"\"ou are provided with hospital data with quality measures on readmission. Each \n",
    "hospital has one JSON file. Within the json file, the hospital information and measures \n",
    "are present. Only three measures are in each file:\n",
    "\"READM-30-CABG-HRRP\", \"READM-30-COPD-HRRP\", \"READM-30-HF-HRRP\" .From all the json files, extract the data\n",
    "in csv format with variables:\n",
    "1.\n",
    "Hospital Number\n",
    "2.\n",
    "Hospital Name\n",
    "3.\n",
    "Hospital State\n",
    "4.\n",
    "Discharge for READM-30-CABG-HRRP measure\n",
    "5.\n",
    "Excess Readmission for READM-30-CABG-HRRP measure\n",
    "\n",
    "Your CSV file would look something like this\n",
    "HospitalNumber,HospitalName,State,Discharge,Excess\n",
    "1234567,\"Name Hospital\",\"TX\",-1,15\n",
    "12345763,\"Name Hospital\",\"TX\",\"Not Available\",34.5\n",
    "\n",
    "If you notice, we are using -1 for value not available.\n",
    "Apply principles of Data science, and computational thinking to extract, load and transform data.\n",
    "Implement a python program to load all hospitalfiles and write a CSV output as recommended.\"\"\""
   ]
  },
  {
   "cell_type": "code",
   "execution_count": 59,
   "metadata": {},
   "outputs": [],
   "source": [
    "#Goal: From all json files extract- hospital number, name, state, predicted HF readmission, and predicted \n",
    "#COPD readmission and put data in a CSV file\n",
    "import os, csv, json\n",
    "data_directory=\"/opt/class/midterm/hospital/\"\n",
    "file_list=os.listdir(data_directory)\n",
    "#Import modules\n",
    "Hospital_number=''\n",
    "Hospital_name=''\n",
    "Hospital_state=''\n",
    "HF=''\n",
    "COPD=''\n",
    "#Create variables to assign attributes to\n",
    "with open('btariq_mid_hospital.csv', 'w') as filtered_file:\n",
    "    hospital_writer = csv.writer(filtered_file, delimiter=',') #Creates writer to new csv\n",
    "    hospital_writer.writerow(['Hospital Number', 'Hospital Name', 'Hospital State', 'HF Readmission', 'COPD Readmission'])\n",
    "    for file in file_list:\n",
    "        with open(data_directory+file, \"r\")as json_file: #Creates opener to old json\n",
    "            data = json.load(json_file) #Opens json\n",
    "            Hospital_number= data['Hospital']['Number'] #Iterates through document for attributes in json file\n",
    "            Hospital_name= data['Hospital']['Name']\n",
    "            Hospital_state= data['Hospital']['State']\n",
    "            for measure in data['Measures']:\n",
    "                if (measure['Name']== 'READM-30-HF-HRRP'):\n",
    "                    HF=measure['Readmissions']['Predicted']\n",
    "                if (measure['Name']== 'READM-30-COPD-HRRP'):\n",
    "                    COPD=measure['Readmissions']['Predicted']    \n",
    "        \n",
    "        hospital_writer.writerow([Hospital_number, Hospital_name, Hospital_state, HF, COPD]) #Writes found attributes to CSV\n"
   ]
  },
  {
   "cell_type": "code",
   "execution_count": null,
   "metadata": {},
   "outputs": [],
   "source": []
  }
 ],
 "metadata": {
  "kernelspec": {
   "display_name": "Python 3",
   "language": "python",
   "name": "python3"
  },
  "language_info": {
   "codemirror_mode": {
    "name": "ipython",
    "version": 3
   },
   "file_extension": ".py",
   "mimetype": "text/x-python",
   "name": "python",
   "nbconvert_exporter": "python",
   "pygments_lexer": "ipython3",
   "version": "3.7.3"
  }
 },
 "nbformat": 4,
 "nbformat_minor": 2
}
